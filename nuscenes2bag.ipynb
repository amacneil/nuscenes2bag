{
 "cells": [
  {
   "cell_type": "code",
   "execution_count": 1,
   "id": "fcf1beba-b582-4252-973c-7e7a386c6252",
   "metadata": {
    "tags": []
   },
   "outputs": [],
   "source": [
    "# pip install nuscenes-devkit > /dev/null\n",
    "# !wget -N https://www.nuscenes.org/data/v1.0-mini.tgz\n",
    "# !mkdir -p data\n",
    "# !tar -xzf v1.0-mini.tgz -C data"
   ]
  },
  {
   "cell_type": "code",
   "execution_count": 2,
   "id": "20f35f14-3e51-4bae-8951-b4051f38e788",
   "metadata": {
    "tags": []
   },
   "outputs": [
    {
     "name": "stdout",
     "output_type": "stream",
     "text": [
      "======\n",
      "Loading NuScenes tables for version v1.0-mini...\n",
      "23 category,\n",
      "8 attribute,\n",
      "4 visibility,\n",
      "911 instance,\n",
      "12 sensor,\n",
      "120 calibrated_sensor,\n",
      "31206 ego_pose,\n",
      "8 log,\n",
      "10 scene,\n",
      "404 sample,\n",
      "31206 sample_data,\n",
      "18538 sample_annotation,\n",
      "4 map,\n",
      "Done loading in 0.468 seconds.\n",
      "======\n",
      "Reverse indexing ...\n",
      "Done reverse indexing in 0.1 seconds.\n",
      "======\n"
     ]
    }
   ],
   "source": [
    "from nuscenes.nuscenes import NuScenes\n",
    "\n",
    "nusc = NuScenes(version='v1.0-mini', dataroot='data', verbose=True)"
   ]
  },
  {
   "cell_type": "code",
   "execution_count": 3,
   "id": "52bbdf45-21a2-4738-97a2-4b80fa5b5fc4",
   "metadata": {},
   "outputs": [
    {
     "name": "stdout",
     "output_type": "stream",
     "text": [
      "scene-0061, Parked truck, construction, intersectio... [18-07-24 03:28:47]   19s, singapore-onenorth, #anns:4622\n",
      "scene-0103, Many peds right, wait for turning car, ... [18-08-01 19:26:43]   19s, boston-seaport, #anns:2046\n",
      "scene-0655, Parking lot, parked cars, jaywalker, be... [18-08-27 15:51:32]   20s, boston-seaport, #anns:2332\n",
      "scene-0553, Wait at intersection, bicycle, large tr... [18-08-28 20:48:16]   20s, boston-seaport, #anns:1950\n",
      "scene-0757, Arrive at busy intersection, bus, wait ... [18-08-30 19:25:08]   20s, boston-seaport, #anns:592\n",
      "scene-0796, Scooter, peds on sidewalk, bus, cars, t... [18-10-02 02:52:24]   20s, singapore-queensto, #anns:708\n",
      "scene-0916, Parking lot, bicycle rack, parked bicyc... [18-10-08 07:37:13]   20s, singapore-queensto, #anns:2387\n",
      "scene-1077, Night, big street, bus stop, high speed... [18-11-21 11:39:27]   20s, singapore-hollandv, #anns:890\n",
      "scene-1094, Night, after rain, many peds, PMD, ped ... [18-11-21 11:47:27]   19s, singapore-hollandv, #anns:1762\n",
      "scene-1100, Night, peds in sidewalk, peds cross cro... [18-11-21 11:49:47]   19s, singapore-hollandv, #anns:935\n"
     ]
    }
   ],
   "source": [
    "nusc.list_scenes()"
   ]
  },
  {
   "cell_type": "code",
   "execution_count": 4,
   "id": "c4f8860c-2141-40e7-911b-21d0954a26e4",
   "metadata": {
    "tags": []
   },
   "outputs": [
    {
     "data": {
      "text/plain": [
       "{'token': 'cc8c0bf57f984915a77078b10eb33198',\n",
       " 'log_token': '7e25a2c8ea1f41c5b0da1e69ecfa71a2',\n",
       " 'nbr_samples': 39,\n",
       " 'first_sample_token': 'ca9a282c9e77460f8360f564131a8af5',\n",
       " 'last_sample_token': 'ed5fc18c31904f96a8f0dbb99ff069c0',\n",
       " 'name': 'scene-0061',\n",
       " 'description': 'Parked truck, construction, intersection, turn left, following a van'}"
      ]
     },
     "execution_count": 4,
     "metadata": {},
     "output_type": "execute_result"
    }
   ],
   "source": [
    "scene = nusc.scene[0]\n",
    "scene"
   ]
  },
  {
   "cell_type": "code",
   "execution_count": 5,
   "id": "066cf82b-3140-4548-a1db-de2c53b5965a",
   "metadata": {},
   "outputs": [
    {
     "data": {
      "text/plain": [
       "{'token': 'ca9a282c9e77460f8360f564131a8af5',\n",
       " 'timestamp': 1532402927647951,\n",
       " 'prev': '',\n",
       " 'next': '39586f9d59004284a7114a68825e8eec',\n",
       " 'scene_token': 'cc8c0bf57f984915a77078b10eb33198',\n",
       " 'data': {'RADAR_FRONT': '37091c75b9704e0daa829ba56dfa0906',\n",
       "  'RADAR_FRONT_LEFT': '11946c1461d14016a322916157da3c7d',\n",
       "  'RADAR_FRONT_RIGHT': '491209956ee3435a9ec173dad3aaf58b',\n",
       "  'RADAR_BACK_LEFT': '312aa38d0e3e4f01b3124c523e6f9776',\n",
       "  'RADAR_BACK_RIGHT': '07b30d5eb6104e79be58eadf94382bc1',\n",
       "  'LIDAR_TOP': '9d9bf11fb0e144c8b446d54a8a00184f',\n",
       "  'CAM_FRONT': 'e3d495d4ac534d54b321f50006683844',\n",
       "  'CAM_FRONT_RIGHT': 'aac7867ebf4f446395d29fbd60b63b3b',\n",
       "  'CAM_BACK_RIGHT': '79dbb4460a6b40f49f9c150cb118247e',\n",
       "  'CAM_BACK': '03bea5763f0f4722933508d5999c5fd8',\n",
       "  'CAM_BACK_LEFT': '43893a033f9c46d4a51b5e08a67a1eb7',\n",
       "  'CAM_FRONT_LEFT': 'fe5422747a7d4268a4b07fc396707b23'},\n",
       " 'anns': ['ef63a697930c4b20a6b9791f423351da',\n",
       "  '6b89da9bf1f84fd6a5fbe1c3b236f809',\n",
       "  '924ee6ac1fed440a9d9e3720aac635a0',\n",
       "  '91e3608f55174a319246f361690906ba',\n",
       "  'cd051723ed9c40f692b9266359f547af',\n",
       "  '36d52dfedd764b27863375543c965376',\n",
       "  '70af124fceeb433ea73a79537e4bea9e',\n",
       "  '63b89fe17f3e41ecbe28337e0e35db8e',\n",
       "  'e4a3582721c34f528e3367f0bda9485d',\n",
       "  'fcb2332977ed4203aa4b7e04a538e309',\n",
       "  'a0cac1c12246451684116067ae2611f6',\n",
       "  '02248ff567e3497c957c369dc9a1bd5c',\n",
       "  '9db977e264964c2887db1e37113cddaa',\n",
       "  'ca9c5dd6cf374aa980fdd81022f016fd',\n",
       "  '179b8b54ee74425893387ebc09ee133d',\n",
       "  '5b990ac640bf498ca7fd55eaf85d3e12',\n",
       "  '16140fbf143d4e26a4a7613cbd3aa0e8',\n",
       "  '54939f11a73d4398b14aeef500bf0c23',\n",
       "  '83d881a6b3d94ef3a3bc3b585cc514f8',\n",
       "  '74986f1604f047b6925d409915265bf7',\n",
       "  'e86330c5538c4858b8d3ffe874556cc5',\n",
       "  'a7bd5bb89e27455bbb3dba89a576b6a1',\n",
       "  'fbd9d8c939b24f0eb6496243a41e8c41',\n",
       "  '198023a1fb5343a5b6fad033ab8b7057',\n",
       "  'ffeafb90ecd5429cba23d0be9a5b54ee',\n",
       "  'cc636a58e27e446cbdd030c14f3718fd',\n",
       "  '076a7e3ec6244d3b84e7df5ebcbac637',\n",
       "  '0603fbaef1234c6c86424b163d2e3141',\n",
       "  'd76bd5dcc62f4c57b9cece1c7bcfabc5',\n",
       "  '5acb6c71bcd64aa188804411b28c4c8f',\n",
       "  '49b74a5f193c4759b203123b58ca176d',\n",
       "  '77519174b48f4853a895f58bb8f98661',\n",
       "  'c5e9455e98bb42c0af7d1990db1df0c9',\n",
       "  'fcc5b4b5c4724179ab24962a39ca6d65',\n",
       "  '791d1ca7e228433fa50b01778c32449a',\n",
       "  '316d20eb238c43ef9ee195642dd6e3fe',\n",
       "  'cda0a9085607438c9b1ea87f4360dd64',\n",
       "  'e865152aaa194f22b97ad0078c012b21',\n",
       "  '7962506dbc24423aa540a5e4c7083dad',\n",
       "  '29cca6a580924b72a90b9dd6e7710d3e',\n",
       "  'a6f7d4bb60374f868144c5ba4431bf4c',\n",
       "  'f1ae3f713ba946069fa084a6b8626fbf',\n",
       "  'd7af8ede316546f68d4ab4f3dbf03f88',\n",
       "  '91cb8f15ed4444e99470d43515e50c1d',\n",
       "  'bc638d33e89848f58c0b3ccf3900c8bb',\n",
       "  '26fb370c13f844de9d1830f6176ebab6',\n",
       "  '7e66fdf908d84237943c833e6c1b317a',\n",
       "  '67c5dbb3ddcc4aff8ec5140930723c37',\n",
       "  'eaf2532c820740ae905bb7ed78fb1037',\n",
       "  '3e2d17fa9aa5484d9cabc1dfca532193',\n",
       "  'de6bd5ffbed24aa59c8891f8d9c32c44',\n",
       "  '9d51d699f635478fbbcd82a70396dd62',\n",
       "  'b7cbc6d0e80e4dfda7164871ece6cb71',\n",
       "  '563a3f547bd64a2f9969278c5ef447fd',\n",
       "  'df8917888b81424f8c0670939e61d885',\n",
       "  'bb3ef5ced8854640910132b11b597348',\n",
       "  'a522ce1d7f6545d7955779f25d01783b',\n",
       "  '1fafb2468af5481ca9967407af219c32',\n",
       "  '05de82bdb8484623906bb9d97ae87542',\n",
       "  'bfedb0d85e164b7697d1e72dd971fb72',\n",
       "  'ca0f85b4f0d44beb9b7ff87b1ab37ff5',\n",
       "  'bca4bbfdef3d4de980842f28be80b3ca',\n",
       "  'a834fb0389a8453c810c3330e3503e16',\n",
       "  '6c804cb7d78943b195045082c5c2d7fa',\n",
       "  'adf1594def9e4722b952fea33b307937',\n",
       "  '49f76277d07541c5a584aa14c9d28754',\n",
       "  '15a3b4d60b514db5a3468e2aef72a90c',\n",
       "  '18cc2837f2b9457c80af0761a0b83ccc',\n",
       "  '2bfcc693ae9946daba1d9f2724478fd4']}"
      ]
     },
     "execution_count": 5,
     "metadata": {},
     "output_type": "execute_result"
    }
   ],
   "source": [
    "nusc.get('sample', scene['first_sample_token'])"
   ]
  },
  {
   "cell_type": "code",
   "execution_count": 6,
   "id": "860aacf6-068d-4d73-8ad2-0554f1d2bb67",
   "metadata": {},
   "outputs": [
    {
     "data": {
      "text/plain": [
       "{'token': '9d9bf11fb0e144c8b446d54a8a00184f',\n",
       " 'sample_token': 'ca9a282c9e77460f8360f564131a8af5',\n",
       " 'ego_pose_token': '9d9bf11fb0e144c8b446d54a8a00184f',\n",
       " 'calibrated_sensor_token': 'a183049901c24361a6b0b11b8013137c',\n",
       " 'timestamp': 1532402927647951,\n",
       " 'fileformat': 'pcd',\n",
       " 'is_key_frame': True,\n",
       " 'height': 0,\n",
       " 'width': 0,\n",
       " 'filename': 'samples/LIDAR_TOP/n015-2018-07-24-11-22-45+0800__LIDAR_TOP__1532402927647951.pcd.bin',\n",
       " 'prev': '',\n",
       " 'next': '0cedf1d2d652468d92d23491136b5d15',\n",
       " 'sensor_modality': 'lidar',\n",
       " 'channel': 'LIDAR_TOP'}"
      ]
     },
     "execution_count": 6,
     "metadata": {},
     "output_type": "execute_result"
    }
   ],
   "source": [
    "nusc.get('sample_data', nusc.get('sample', scene['first_sample_token'])['data']['LIDAR_TOP'])"
   ]
  },
  {
   "cell_type": "code",
   "execution_count": 7,
   "id": "e1391fef-09ff-40eb-af33-b2160cac72b9",
   "metadata": {
    "tags": []
   },
   "outputs": [
    {
     "name": "stdout",
     "output_type": "stream",
     "text": [
      "\n",
      "success\n"
     ]
    }
   ],
   "source": [
    "import rosbag\n",
    "import rospy\n",
    "import os\n",
    "import math\n",
    "import random\n",
    "from pprint import pprint\n",
    "from std_msgs.msg import ColorRGBA\n",
    "from sensor_msgs.msg import PointCloud2, PointField\n",
    "from tf2_msgs.msg import TFMessage\n",
    "from geometry_msgs.msg import Pose, PoseStamped, Transform, TransformStamped\n",
    "\n",
    "from visualization_msgs.msg import Marker, MarkerArray\n",
    "\n",
    "def get_transform(data):\n",
    "    t = Transform()\n",
    "    t.translation.x = data['translation'][0]\n",
    "    t.translation.y = data['translation'][1]\n",
    "    t.translation.z = data['translation'][2]\n",
    "    \n",
    "    t.rotation.w = data['rotation'][0]\n",
    "    t.rotation.x = data['rotation'][1]\n",
    "    t.rotation.y = data['rotation'][2]\n",
    "    t.rotation.z = data['rotation'][3]\n",
    "    \n",
    "    return t\n",
    "\n",
    "def get_pose(data):\n",
    "    p = Pose()\n",
    "    p.position.x = data['translation'][0]\n",
    "    p.position.y = data['translation'][1]\n",
    "    p.position.z = data['translation'][2]\n",
    "    \n",
    "    p.orientation.w = data['rotation'][0]\n",
    "    p.orientation.x = data['rotation'][1]\n",
    "    p.orientation.y = data['rotation'][2]\n",
    "    p.orientation.z = data['rotation'][3]\n",
    "    \n",
    "    return p\n",
    "\n",
    "def get_time(data):\n",
    "    t = rospy.Time()\n",
    "    t.secs, msecs = divmod(data['timestamp'], 1_000_000)\n",
    "    t.nsecs = msecs * 1000\n",
    "    \n",
    "    return t\n",
    "\n",
    "def random_color():\n",
    "    c = ColorRGBA()\n",
    "    c.r = random.uniform(0.5, 1)\n",
    "    c.g = random.uniform(0.5, 1)\n",
    "    c.b = random.uniform(0.5, 1)\n",
    "    c.a = 0.5\n",
    "    \n",
    "    return c\n",
    "\n",
    "first_sample = nusc.get('sample', scene['first_sample_token'])\n",
    "sample_lidar = nusc.get('sample_data', first_sample['data']['LIDAR_TOP'])\n",
    "ann_colors = {}\n",
    "published_samples = set()\n",
    "\n",
    "bag = rosbag.Bag('out.bag', 'w')\n",
    "\n",
    "try:\n",
    "    while sample_lidar is not None:\n",
    "#         print('\\nsample_lidar', sample_lidar['token'])\n",
    "            \n",
    "        # create point cloud message\n",
    "        pc_filename = 'data/' + sample_lidar['filename']\n",
    "        pc_filesize = os.stat(pc_filename).st_size\n",
    "\n",
    "        with open(pc_filename, 'rb') as pc_file:\n",
    "            pc = PointCloud2()\n",
    "            pc.header.frame_id = 'lidar'\n",
    "            pc.header.stamp = get_time(sample_lidar)\n",
    "\n",
    "            pc.fields = [\n",
    "                PointField(name='x', offset=0, datatype=PointField.FLOAT32, count=1),\n",
    "                PointField(name='y', offset=4, datatype=PointField.FLOAT32, count=1),\n",
    "                PointField(name='z', offset=8, datatype=PointField.FLOAT32, count=1),\n",
    "                PointField(name='intensity', offset=12, datatype=PointField.FLOAT32, count=1),\n",
    "                PointField(name='ring', offset=16, datatype=PointField.FLOAT32, count=1),\n",
    "            ]\n",
    "\n",
    "            pc.is_bigendian = False\n",
    "            pc.is_dense = True\n",
    "            pc.point_step = len(pc.fields) * 4 # 4 bytes per field\n",
    "            pc.row_step = pc_filesize\n",
    "            pc.width = round(pc_filesize / pc.point_step)\n",
    "            pc.height = 1 # unordered\n",
    "            pc.data = pc_file.read()\n",
    "\n",
    "            bag.write('/lidar', pc, pc.header.stamp)\n",
    "        \n",
    "        # publish ego pose\n",
    "        ego_pose = nusc.get('ego_pose', sample_lidar['ego_pose_token'])\n",
    "        pose_stamped = PoseStamped()\n",
    "        pose_stamped.header.frame_id = 'world'\n",
    "        pose_stamped.header.stamp = get_time(ego_pose)\n",
    "        pose_stamped.pose = get_pose(ego_pose)\n",
    "        bag.write('/pose', pose_stamped, pose_stamped.header.stamp)\n",
    "            \n",
    "        tf_array = TFMessage()\n",
    "        \n",
    "        # create ego transform\n",
    "        ego_tf = TransformStamped()\n",
    "        ego_tf.header.frame_id = 'world'\n",
    "        ego_tf.header.stamp = get_time(ego_pose)\n",
    "        ego_tf.child_frame_id = 'ego'\n",
    "        ego_tf.transform = get_transform(ego_pose)\n",
    "        tf_array.transforms.append(ego_tf)\n",
    "        \n",
    "        # create lidar transform\n",
    "        lidar_tf = TransformStamped()\n",
    "        lidar_tf.header.frame_id = 'ego'\n",
    "        lidar_tf.header.stamp = get_time(sample_lidar)\n",
    "        lidar_tf.child_frame_id = 'lidar'\n",
    "        lidar_tf.transform = get_transform(\n",
    "            nusc.get('calibrated_sensor', sample_lidar['calibrated_sensor_token']))\n",
    "        tf_array.transforms.append(lidar_tf)\n",
    "        \n",
    "        bag.write('/tf', tf_array, lidar_tf.header.stamp)\n",
    "\n",
    "        # create bounding boxes\n",
    "        sample = nusc.get('sample', sample_lidar['sample_token'])\n",
    "        if sample['token'] not in published_samples:\n",
    "#             print('sample', sample['token'])\n",
    "\n",
    "            marker_array = MarkerArray()\n",
    "            i = 0\n",
    "            for ann_id in sample['anns']:\n",
    "                ann = nusc.get('sample_annotation', ann_id)\n",
    "\n",
    "                marker = Marker()\n",
    "                marker.header.frame_id = 'world'\n",
    "                marker.header.stamp = get_time(sample_lidar)\n",
    "                marker.id = i\n",
    "                marker.type = Marker.CUBE\n",
    "                marker.pose = get_pose(ann)\n",
    "\n",
    "                marker.scale.x = ann['size'][1]\n",
    "                marker.scale.y = ann['size'][0]\n",
    "                marker.scale.z = ann['size'][2]\n",
    "\n",
    "                marker.color = ann_colors.get(ann['instance_token'])\n",
    "                if marker.color is None:\n",
    "                    marker.color = random_color();\n",
    "                    ann_colors[ann['instance_token']] = marker.color\n",
    "\n",
    "                marker_array.markers.append(marker)\n",
    "                i+=1\n",
    "\n",
    "                bag.write('/annotations', marker_array, get_time(sample_lidar))\n",
    "            published_samples.add(sample['token'])\n",
    "\n",
    "        sample_lidar = nusc.get('sample_data', sample_lidar['next']) if sample_lidar.get('next') != '' else None\n",
    "        \n",
    "    print('\\nsuccess')\n",
    "finally:\n",
    "    bag.close()\n"
   ]
  },
  {
   "cell_type": "code",
   "execution_count": null,
   "id": "2c036443-de53-4336-ad81-377716169c6a",
   "metadata": {},
   "outputs": [],
   "source": []
  }
 ],
 "metadata": {
  "kernelspec": {
   "display_name": "Python 3 (ipykernel)",
   "language": "python",
   "name": "python3"
  },
  "language_info": {
   "codemirror_mode": {
    "name": "ipython",
    "version": 3
   },
   "file_extension": ".py",
   "mimetype": "text/x-python",
   "name": "python",
   "nbconvert_exporter": "python",
   "pygments_lexer": "ipython3",
   "version": "3.8.10"
  }
 },
 "nbformat": 4,
 "nbformat_minor": 5
}
